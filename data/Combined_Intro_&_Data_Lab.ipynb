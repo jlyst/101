{
  "nbformat": 4,
  "nbformat_minor": 0,
  "metadata": {
    "colab": {
      "name": "Combined Intro & Data Lab.ipynb",
      "provenance": [],
      "collapsed_sections": []
    },
    "kernelspec": {
      "name": "python3",
      "display_name": "Python 3"
    }
  },
  "cells": [
    {
      "cell_type": "markdown",
      "metadata": {
        "id": "Yg-cOqtAumCO",
        "colab_type": "text"
      },
      "source": [
        "# Introduction to Python with Data and Vizualization"
      ]
    },
    {
      "cell_type": "markdown",
      "metadata": {
        "id": "WvHbXTQFfo55",
        "colab_type": "text"
      },
      "source": [
        "## Python Basics - Print, Variables, and Lists\n",
        "\n",
        "---\n",
        "\n",
        "### Print\n",
        "You can use the print to simply print a value to the display."
      ]
    },
    {
      "cell_type": "code",
      "metadata": {
        "id": "QFzU9qIghR9j",
        "colab_type": "code",
        "colab": {
          "base_uri": "https://localhost:8080/",
          "height": 68
        },
        "outputId": "064acbeb-32a5-4640-c893-6aad1ccfdb13"
      },
      "source": [
        "print(\"Hello\")\n",
        "print(72)\n",
        "print(4 + 3)"
      ],
      "execution_count": 2,
      "outputs": [
        {
          "output_type": "stream",
          "text": [
            "Hello\n",
            "72\n",
            "7\n"
          ],
          "name": "stdout"
        }
      ]
    },
    {
      "cell_type": "markdown",
      "metadata": {
        "id": "hcsGeOhHgZDa",
        "colab_type": "text"
      },
      "source": [
        "### Variables\n",
        "Basic python variables are straight forward. We can define a variable and set it equal to a value, like `name =\"Jill\"`"
      ]
    },
    {
      "cell_type": "code",
      "metadata": {
        "id": "tAYHLMCghfgX",
        "colab_type": "code",
        "colab": {
          "base_uri": "https://localhost:8080/",
          "height": 51
        },
        "outputId": "e1af4ea7-9e6c-4479-9497-92f07246cbd7"
      },
      "source": [
        "name = \"Jill\"\n",
        "age = 29\n",
        "print(name)\n",
        "print(age)"
      ],
      "execution_count": 5,
      "outputs": [
        {
          "output_type": "stream",
          "text": [
            "Jill\n",
            "29\n"
          ],
          "name": "stdout"
        }
      ]
    },
    {
      "cell_type": "markdown",
      "metadata": {
        "id": "1NuSvEspiOma",
        "colab_type": "text"
      },
      "source": [
        "### Lists (like arrays)\n",
        "\n",
        "Python lists allow you to create a variable to hold multiple items. You access individual items by using the index in brackets `[index]` after the variable name. "
      ]
    },
    {
      "cell_type": "code",
      "metadata": {
        "id": "QoJan_mdjGWd",
        "colab_type": "code",
        "colab": {
          "base_uri": "https://localhost:8080/",
          "height": 68
        },
        "outputId": "c1b8fc00-99d8-4dd8-a2ac-9274cb5c6d71"
      },
      "source": [
        "myList = ['honda','toyota','GM','Ford']\n",
        "print(myList) # print the entire list\n",
        "# remember, as with arrays, the first item is index of 0 and so forth...\n",
        "print(myList[0]) # print the first item\n",
        "print(myList[2]) # print the third item"
      ],
      "execution_count": 1,
      "outputs": [
        {
          "output_type": "stream",
          "text": [
            "['honda', 'toyota', 'GM', 'Ford']\n",
            "honda\n",
            "GM\n"
          ],
          "name": "stdout"
        }
      ]
    },
    {
      "cell_type": "markdown",
      "metadata": {
        "id": "WESYl4ULkXbR",
        "colab_type": "text"
      },
      "source": [
        "## TASK 1: Print the fourth item in the following array."
      ]
    },
    {
      "cell_type": "code",
      "metadata": {
        "id": "mvpsM7zpl3lI",
        "colab_type": "code",
        "colab": {
          "base_uri": "https://localhost:8080/",
          "height": 34
        },
        "outputId": "67be3908-9efd-4330-9183-0f11a49ccc94"
      },
      "source": [
        "myList2 = ['James','Jill','John','Janet']\n"
      ],
      "execution_count": 2,
      "outputs": [
        {
          "output_type": "execute_result",
          "data": {
            "text/plain": [
              "'Janet'"
            ]
          },
          "metadata": {
            "tags": []
          },
          "execution_count": 2
        }
      ]
    },
    {
      "cell_type": "markdown",
      "metadata": {
        "id": "FufjT1RxfZv8",
        "colab_type": "text"
      },
      "source": [
        "## Python Data and Vizualization - A Quick Jump In\n",
        "\n",
        "---\n",
        "We are going to jump right in to some ways to work with data. Compare this with how we used spreadsheets in the past as you begin to build your knowledge about your tool sets for data.\n",
        "\n",
        "### Importing Libraries\n",
        "The three libraries below help us do interesting things with data and vizualization with a minimal amount of coding. *Be thankful for open source contributors.*"
      ]
    },
    {
      "cell_type": "code",
      "metadata": {
        "id": "UmyxGNv2ijMD",
        "colab_type": "code",
        "colab": {}
      },
      "source": [
        "import numpy as np\n",
        "import pandas as pd\n",
        "import matplotlib.pyplot as plt"
      ],
      "execution_count": 0,
      "outputs": []
    },
    {
      "cell_type": "markdown",
      "metadata": {
        "id": "oEVZg-yQym1v",
        "colab_type": "text"
      },
      "source": [
        "### Reading CSV Files and Printing the Top Rows of the Data\n",
        "With the `read_csv(url)` function we can read in a remote csv file for processing. Think of the result (*movies* below) as a table. The `head(n)` allows us to access the top *n* rows of the resulting data. Useful for many things, but will use it to save space. \n",
        "\n",
        "** Notice that we aren't using print here. The notebook will print any returned value from the last line in the block of code."
      ]
    },
    {
      "cell_type": "code",
      "metadata": {
        "id": "38GsCdSRix-u",
        "colab_type": "code",
        "outputId": "4cf4ffba-2fb8-46b9-dde5-4a9cc985d9fd",
        "colab": {
          "base_uri": "https://localhost:8080/",
          "height": 142
        }
      },
      "source": [
        "movies = pd.read_csv('https://raw.githubusercontent.com/jlyst/101/master/data/movies.csv')\n",
        "movies.head(3)"
      ],
      "execution_count": 10,
      "outputs": [
        {
          "output_type": "execute_result",
          "data": {
            "text/html": [
              "<div>\n",
              "<style scoped>\n",
              "    .dataframe tbody tr th:only-of-type {\n",
              "        vertical-align: middle;\n",
              "    }\n",
              "\n",
              "    .dataframe tbody tr th {\n",
              "        vertical-align: top;\n",
              "    }\n",
              "\n",
              "    .dataframe thead th {\n",
              "        text-align: right;\n",
              "    }\n",
              "</style>\n",
              "<table border=\"1\" class=\"dataframe\">\n",
              "  <thead>\n",
              "    <tr style=\"text-align: right;\">\n",
              "      <th></th>\n",
              "      <th>ID</th>\n",
              "      <th>Rank</th>\n",
              "      <th>Rating</th>\n",
              "      <th>Title</th>\n",
              "      <th>Year</th>\n",
              "      <th>Votes</th>\n",
              "    </tr>\n",
              "  </thead>\n",
              "  <tbody>\n",
              "    <tr>\n",
              "      <th>0</th>\n",
              "      <td>1</td>\n",
              "      <td>6</td>\n",
              "      <td>8.9</td>\n",
              "      <td>12 Angry Men</td>\n",
              "      <td>1957</td>\n",
              "      <td>212873</td>\n",
              "    </tr>\n",
              "    <tr>\n",
              "      <th>1</th>\n",
              "      <td>2</td>\n",
              "      <td>93</td>\n",
              "      <td>8.3</td>\n",
              "      <td>2001: A Space Odyssey</td>\n",
              "      <td>1968</td>\n",
              "      <td>232896</td>\n",
              "    </tr>\n",
              "    <tr>\n",
              "      <th>2</th>\n",
              "      <td>3</td>\n",
              "      <td>192</td>\n",
              "      <td>8.0</td>\n",
              "      <td>8_</td>\n",
              "      <td>1963</td>\n",
              "      <td>46140</td>\n",
              "    </tr>\n",
              "  </tbody>\n",
              "</table>\n",
              "</div>"
            ],
            "text/plain": [
              "   ID  Rank  Rating                  Title  Year   Votes\n",
              "0   1     6     8.9           12 Angry Men  1957  212873\n",
              "1   2    93     8.3  2001: A Space Odyssey  1968  232896\n",
              "2   3   192     8.0                     8_  1963   46140"
            ]
          },
          "metadata": {
            "tags": []
          },
          "execution_count": 10
        }
      ]
    },
    {
      "cell_type": "markdown",
      "metadata": {
        "id": "7E2HyOVMzF1g",
        "colab_type": "text"
      },
      "source": [
        "### Creating Scatter Plots"
      ]
    },
    {
      "cell_type": "code",
      "metadata": {
        "id": "jmwTkIPXk0nT",
        "colab_type": "code",
        "outputId": "dc932206-8cff-4452-b555-245f6818624e",
        "colab": {
          "base_uri": "https://localhost:8080/",
          "height": 300
        }
      },
      "source": [
        "# Let's see if there is any correlation between the release year of movies and the ranking by creating a scatter plot. ...Not really...\n",
        "movies.plot.scatter(y='Rank', x='Year')"
      ],
      "execution_count": 11,
      "outputs": [
        {
          "output_type": "execute_result",
          "data": {
            "text/plain": [
              "<matplotlib.axes._subplots.AxesSubplot at 0x7f8a85542438>"
            ]
          },
          "metadata": {
            "tags": []
          },
          "execution_count": 11
        },
        {
          "output_type": "display_data",
          "data": {
            "image/png": "[encoded data removed]",
            "text/plain": [
              "<Figure size 432x288 with 1 Axes>"
            ]
          },
          "metadata": {
            "tags": []
          }
        }
      ]
    },
    {
      "cell_type": "markdown",
      "metadata": {
        "id": "bd_JX0eEzjuw",
        "colab_type": "text"
      },
      "source": [
        "### TASK 2: Add a scatter plot below comparing the 'Votes' for each movie with the release 'Year' "
      ]
    },
    {
      "cell_type": "code",
      "metadata": {
        "id": "77jtGSxKxCsP",
        "colab_type": "code",
        "colab": {}
      },
      "source": [
        "# Create a scatterplot below comparing the Votes with the release Year. Hmmm. See a bit of a trend there?\n",
        "\n"
      ],
      "execution_count": 0,
      "outputs": []
    },
    {
      "cell_type": "markdown",
      "metadata": {
        "id": "DaIlPfSx0RU0",
        "colab_type": "text"
      },
      "source": [
        "### Sorting Data"
      ]
    },
    {
      "cell_type": "code",
      "metadata": {
        "id": "u8yU4NRQo015",
        "colab_type": "code",
        "outputId": "3d12211e-c3d3-45b5-ad38-a0591afd7067",
        "colab": {
          "base_uri": "https://localhost:8080/",
          "height": 204
        }
      },
      "source": [
        "movies_title_sort = movies.sort_values(by='Title')\n",
        "movies_title_sort.head(5)"
      ],
      "execution_count": 12,
      "outputs": [
        {
          "output_type": "execute_result",
          "data": {
            "text/html": [
              "<div>\n",
              "<style scoped>\n",
              "    .dataframe tbody tr th:only-of-type {\n",
              "        vertical-align: middle;\n",
              "    }\n",
              "\n",
              "    .dataframe tbody tr th {\n",
              "        vertical-align: top;\n",
              "    }\n",
              "\n",
              "    .dataframe thead th {\n",
              "        text-align: right;\n",
              "    }\n",
              "</style>\n",
              "<table border=\"1\" class=\"dataframe\">\n",
              "  <thead>\n",
              "    <tr style=\"text-align: right;\">\n",
              "      <th></th>\n",
              "      <th>ID</th>\n",
              "      <th>Rank</th>\n",
              "      <th>Rating</th>\n",
              "      <th>Title</th>\n",
              "      <th>Year</th>\n",
              "      <th>Votes</th>\n",
              "    </tr>\n",
              "  </thead>\n",
              "  <tbody>\n",
              "    <tr>\n",
              "      <th>0</th>\n",
              "      <td>1</td>\n",
              "      <td>6</td>\n",
              "      <td>8.9</td>\n",
              "      <td>12 Angry Men</td>\n",
              "      <td>1957</td>\n",
              "      <td>212873</td>\n",
              "    </tr>\n",
              "    <tr>\n",
              "      <th>1</th>\n",
              "      <td>2</td>\n",
              "      <td>93</td>\n",
              "      <td>8.3</td>\n",
              "      <td>2001: A Space Odyssey</td>\n",
              "      <td>1968</td>\n",
              "      <td>232896</td>\n",
              "    </tr>\n",
              "    <tr>\n",
              "      <th>2</th>\n",
              "      <td>3</td>\n",
              "      <td>192</td>\n",
              "      <td>8.0</td>\n",
              "      <td>8_</td>\n",
              "      <td>1963</td>\n",
              "      <td>46140</td>\n",
              "    </tr>\n",
              "    <tr>\n",
              "      <th>3</th>\n",
              "      <td>4</td>\n",
              "      <td>198</td>\n",
              "      <td>8.0</td>\n",
              "      <td>A Beautiful Mind</td>\n",
              "      <td>2001</td>\n",
              "      <td>266226</td>\n",
              "    </tr>\n",
              "    <tr>\n",
              "      <th>4</th>\n",
              "      <td>5</td>\n",
              "      <td>61</td>\n",
              "      <td>8.4</td>\n",
              "      <td>A Clockwork Orange</td>\n",
              "      <td>1971</td>\n",
              "      <td>297729</td>\n",
              "    </tr>\n",
              "  </tbody>\n",
              "</table>\n",
              "</div>"
            ],
            "text/plain": [
              "   ID  Rank  Rating                  Title  Year   Votes\n",
              "0   1     6     8.9           12 Angry Men  1957  212873\n",
              "1   2    93     8.3  2001: A Space Odyssey  1968  232896\n",
              "2   3   192     8.0                     8_  1963   46140\n",
              "3   4   198     8.0       A Beautiful Mind  2001  266226\n",
              "4   5    61     8.4     A Clockwork Orange  1971  297729"
            ]
          },
          "metadata": {
            "tags": []
          },
          "execution_count": 12
        }
      ]
    },
    {
      "cell_type": "markdown",
      "metadata": {
        "id": "O-hNNMNc0mVW",
        "colab_type": "text"
      },
      "source": [
        "### TASK 3: Sort the movies data by 'Rank' below and print the top 10 rows."
      ]
    },
    {
      "cell_type": "code",
      "metadata": {
        "id": "2Q1Eh4JS02ku",
        "colab_type": "code",
        "colab": {}
      },
      "source": [
        "# What are the top 10 movies by Rank?\n"
      ],
      "execution_count": 0,
      "outputs": []
    },
    {
      "cell_type": "markdown",
      "metadata": {
        "id": "xyjCqEcF2a3J",
        "colab_type": "text"
      },
      "source": [
        "### Displaying a Histogram and Descriptive Statistics"
      ]
    },
    {
      "cell_type": "code",
      "metadata": {
        "id": "0B1g2pt42lVP",
        "colab_type": "code",
        "outputId": "cdd378e6-8971-4f41-f6cc-4e563491aa10",
        "colab": {
          "base_uri": "https://localhost:8080/",
          "height": 434
        }
      },
      "source": [
        "movies.hist(column='Votes')\n",
        "movies['Votes'].describe() # provides descriptive statistics about the data"
      ],
      "execution_count": 13,
      "outputs": [
        {
          "output_type": "execute_result",
          "data": {
            "text/plain": [
              "count       250.000000\n",
              "mean     199568.572000\n",
              "std      164292.236257\n",
              "min       25347.000000\n",
              "25%       58695.000000\n",
              "50%      150864.000000\n",
              "75%      291391.000000\n",
              "max      864053.000000\n",
              "Name: Votes, dtype: float64"
            ]
          },
          "metadata": {
            "tags": []
          },
          "execution_count": 13
        },
        {
          "output_type": "display_data",
          "data": {
            "image/png": "[encoded data removed]",
            "text/plain": [
              "<Figure size 432x288 with 1 Axes>"
            ]
          },
          "metadata": {
            "tags": []
          }
        }
      ]
    },
    {
      "cell_type": "markdown",
      "metadata": {
        "id": "DL_04k6G3TEe",
        "colab_type": "text"
      },
      "source": [
        "### TASK 4: Display a histogram below of the movie release 'Year' and the associated descriptive statistics.\n"
      ]
    },
    {
      "cell_type": "code",
      "metadata": {
        "id": "10VPirKh3suu",
        "colab_type": "code",
        "colab": {}
      },
      "source": [
        "# Do your histogram and stats reveal anything interesting?\n"
      ],
      "execution_count": 0,
      "outputs": []
    },
    {
      "cell_type": "markdown",
      "metadata": {
        "id": "N677q8tS5YGW",
        "colab_type": "text"
      },
      "source": [
        "### TASK 5: Display a scatterplot below comparing 'Rank' and 'Votes' for the top 20 ranked movies only.\n",
        "This will require you to combine some of the methods used earlier in this notebook."
      ]
    },
    {
      "cell_type": "code",
      "metadata": {
        "id": "XtxXaqyS7wKx",
        "colab_type": "code",
        "colab": {}
      },
      "source": [
        "# Put your code below\n",
        "\n"
      ],
      "execution_count": 0,
      "outputs": []
    },
    {
      "cell_type": "markdown",
      "metadata": {
        "id": "vMr7H0AN7zVr",
        "colab_type": "text"
      },
      "source": [
        "#### REFERENCES\n",
        "\n",
        "https://pandas.pydata.org/pandas-docs/stable/reference/api/pandas.DataFrame.head.html\n",
        "\n",
        "https://pandas.pydata.org/pandas-docs/stable/reference/api/pandas.DataFrame.sort_values.html\n",
        "\n",
        "https://pandas.pydata.org/pandas-docs/stable/user_guide/visualization.html\n",
        "\n",
        "https://pandas.pydata.org/pandas-docs/stable/reference/api/pandas.DataFrame.describe.html\n"
      ]
    }
  ]
}