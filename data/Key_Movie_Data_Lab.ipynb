{
  "nbformat": 4,
  "nbformat_minor": 0,
  "metadata": {
    "colab": {
      "name": "Key_Movie_Data_Lab.ipynb",
      "provenance": [],
      "collapsed_sections": []
    },
    "kernelspec": {
      "name": "python3",
      "display_name": "Python 3"
    }
  },
  "cells": [
    {
      "cell_type": "markdown",
      "metadata": {
        "id": "Yg-cOqtAumCO",
        "colab_type": "text"
      },
      "source": [
        "# Introduction to Data and Vizualization in Python\n",
        "\n",
        "## Importing Libraries\n",
        "The three libraries below help us do interesting things with data and vizualization with a minimal amount of coding."
      ]
    },
    {
      "cell_type": "code",
      "metadata": {
        "id": "UmyxGNv2ijMD",
        "colab_type": "code",
        "colab": {}
      },
      "source": [
        "import numpy as np\n",
        "import pandas as pd\n",
        "import matplotlib.pyplot as plt"
      ],
      "execution_count": 0,
      "outputs": []
    },
    {
      "cell_type": "markdown",
      "metadata": {
        "id": "oEVZg-yQym1v",
        "colab_type": "text"
      },
      "source": [
        "## Reading CSV Files and Printing the Top Rows of the Data"
      ]
    },
    {
      "cell_type": "code",
      "metadata": {
        "id": "38GsCdSRix-u",
        "colab_type": "code",
        "outputId": "6339da67-2055-4b38-8f0a-95dbbbd1546f",
        "colab": {
          "base_uri": "https://localhost:8080/",
          "height": 414
        }
      },
      "source": [
        "# This is the top 100 movies as voted by movie-goers.\n",
        "voters = pd.read_csv('https://raw.githubusercontent.com/jlyst/101/master/data/top_movies_voters.csv')\n",
        "voters.head(3)"
      ],
      "execution_count": 0,
      "outputs": [
        {
          "output_type": "execute_result",
          "data": {
            "text/html": [
              "<div>\n",
              "<style scoped>\n",
              "    .dataframe tbody tr th:only-of-type {\n",
              "        vertical-align: middle;\n",
              "    }\n",
              "\n",
              "    .dataframe tbody tr th {\n",
              "        vertical-align: top;\n",
              "    }\n",
              "\n",
              "    .dataframe thead th {\n",
              "        text-align: right;\n",
              "    }\n",
              "</style>\n",
              "<table border=\"1\" class=\"dataframe\">\n",
              "  <thead>\n",
              "    <tr style=\"text-align: right;\">\n",
              "      <th></th>\n",
              "      <th>imdb_title_id</th>\n",
              "      <th>rank</th>\n",
              "      <th>title</th>\n",
              "      <th>original_title</th>\n",
              "      <th>year</th>\n",
              "      <th>date_published</th>\n",
              "      <th>genre</th>\n",
              "      <th>duration</th>\n",
              "      <th>country</th>\n",
              "      <th>language</th>\n",
              "      <th>director</th>\n",
              "      <th>writer</th>\n",
              "      <th>production_company</th>\n",
              "      <th>actors</th>\n",
              "      <th>description</th>\n",
              "      <th>avg_vote</th>\n",
              "      <th>votes</th>\n",
              "      <th>budget</th>\n",
              "      <th>usa_gross_income</th>\n",
              "      <th>worlwide_gross_income</th>\n",
              "      <th>metascore</th>\n",
              "      <th>reviews_from_users</th>\n",
              "      <th>reviews_from_critics</th>\n",
              "    </tr>\n",
              "  </thead>\n",
              "  <tbody>\n",
              "    <tr>\n",
              "      <th>0</th>\n",
              "      <td>tt0111161</td>\n",
              "      <td>1</td>\n",
              "      <td>The Shawshank Redemption</td>\n",
              "      <td>The Shawshank Redemption</td>\n",
              "      <td>1994</td>\n",
              "      <td>1995-03-03</td>\n",
              "      <td>Drama</td>\n",
              "      <td>142</td>\n",
              "      <td>USA</td>\n",
              "      <td>English</td>\n",
              "      <td>Frank Darabont</td>\n",
              "      <td>Stephen King, Frank Darabont</td>\n",
              "      <td>Castle Rock Entertainment</td>\n",
              "      <td>Tim Robbins, Morgan Freeman, Bob Gunton, Willi...</td>\n",
              "      <td>Two imprisoned men bond over a number of years...</td>\n",
              "      <td>9.3</td>\n",
              "      <td>2159628</td>\n",
              "      <td>$25,000,000</td>\n",
              "      <td>$28,699,976</td>\n",
              "      <td>$28,781,790</td>\n",
              "      <td>80</td>\n",
              "      <td>7029</td>\n",
              "      <td>224</td>\n",
              "    </tr>\n",
              "    <tr>\n",
              "      <th>1</th>\n",
              "      <td>tt0068646</td>\n",
              "      <td>2</td>\n",
              "      <td>The Godfather</td>\n",
              "      <td>The Godfather</td>\n",
              "      <td>1972</td>\n",
              "      <td>1972-08-25</td>\n",
              "      <td>Crime, Drama</td>\n",
              "      <td>175</td>\n",
              "      <td>USA</td>\n",
              "      <td>English, Italian, Latin</td>\n",
              "      <td>Francis Ford Coppola</td>\n",
              "      <td>Mario Puzo, Francis Ford Coppola</td>\n",
              "      <td>Paramount Pictures</td>\n",
              "      <td>Marlon Brando, Al Pacino, James Caan, Richard ...</td>\n",
              "      <td>The aging patriarch of an organized crime dyna...</td>\n",
              "      <td>9.2</td>\n",
              "      <td>1482143</td>\n",
              "      <td>$6,000,000</td>\n",
              "      <td>$134,966,411</td>\n",
              "      <td>$246,120,974</td>\n",
              "      <td>100</td>\n",
              "      <td>3362</td>\n",
              "      <td>241</td>\n",
              "    </tr>\n",
              "    <tr>\n",
              "      <th>2</th>\n",
              "      <td>tt0071562</td>\n",
              "      <td>3</td>\n",
              "      <td>The Godfather: Part II</td>\n",
              "      <td>The Godfather: Part II</td>\n",
              "      <td>1974</td>\n",
              "      <td>1975-10-03</td>\n",
              "      <td>Crime, Drama</td>\n",
              "      <td>202</td>\n",
              "      <td>USA</td>\n",
              "      <td>English, Italian, Spanish, Latin, Sicilian</td>\n",
              "      <td>Francis Ford Coppola</td>\n",
              "      <td>Francis Ford Coppola, Mario Puzo</td>\n",
              "      <td>Paramount Pictures</td>\n",
              "      <td>Al Pacino, Robert Duvall, Diane Keaton, Robert...</td>\n",
              "      <td>The early life and career of Vito Corleone in ...</td>\n",
              "      <td>9.0</td>\n",
              "      <td>1032047</td>\n",
              "      <td>$13,000,000</td>\n",
              "      <td>$47,834,595</td>\n",
              "      <td>$48,020,957</td>\n",
              "      <td>90</td>\n",
              "      <td>857</td>\n",
              "      <td>172</td>\n",
              "    </tr>\n",
              "  </tbody>\n",
              "</table>\n",
              "</div>"
            ],
            "text/plain": [
              "  imdb_title_id  rank  ... reviews_from_users reviews_from_critics\n",
              "0     tt0111161     1  ...               7029                  224\n",
              "1     tt0068646     2  ...               3362                  241\n",
              "2     tt0071562     3  ...                857                  172\n",
              "\n",
              "[3 rows x 23 columns]"
            ]
          },
          "metadata": {
            "tags": []
          },
          "execution_count": 74
        }
      ]
    },
    {
      "cell_type": "markdown",
      "metadata": {
        "id": "7E2HyOVMzF1g",
        "colab_type": "text"
      },
      "source": [
        "## Creating Scatter Plots"
      ]
    },
    {
      "cell_type": "code",
      "metadata": {
        "id": "jmwTkIPXk0nT",
        "colab_type": "code",
        "outputId": "e8b942e1-cc13-4c16-e8cd-a967dcce77ae",
        "colab": {
          "base_uri": "https://localhost:8080/",
          "height": 296
        }
      },
      "source": [
        "# Let's see if there is any correlation between the release year of movies and the ranking by creating a scatter plot. ...Not really...\n",
        "voters.plot.scatter(x='year', y='rank')"
      ],
      "execution_count": 0,
      "outputs": [
        {
          "output_type": "execute_result",
          "data": {
            "text/plain": [
              "<matplotlib.axes._subplots.AxesSubplot at 0x7f4625bb89e8>"
            ]
          },
          "metadata": {
            "tags": []
          },
          "execution_count": 10
        },
        {
          "output_type": "display_data",
          "data": {
            "image/png": "[encoded data removed]",
            "text/plain": [
              "<Figure size 432x288 with 1 Axes>"
            ]
          },
          "metadata": {
            "tags": []
          }
        }
      ]
    },
    {
      "cell_type": "markdown",
      "metadata": {
        "id": "bd_JX0eEzjuw",
        "colab_type": "text"
      },
      "source": [
        "## TASK 1: Add a scatter plot below comparing the movie goers' \"rank\" with the critics' \"metascore\" to see if the critics and movie goers agree."
      ]
    },
    {
      "cell_type": "code",
      "metadata": {
        "id": "77jtGSxKxCsP",
        "colab_type": "code",
        "outputId": "d26b6b53-f078-414d-965c-cf198d570b0e",
        "colab": {
          "base_uri": "https://localhost:8080/",
          "height": 296
        }
      },
      "source": [
        "# Create a scatterplot below comparing the movie goers' \"rank\" with the critics' \"metascore\" to see if the critics and movie goers agree. Hmmm. Any correlation?\n",
        "voters.plot.scatter(x='rank', y='metascore')\n"
      ],
      "execution_count": 0,
      "outputs": [
        {
          "output_type": "execute_result",
          "data": {
            "text/plain": [
              "<matplotlib.axes._subplots.AxesSubplot at 0x7f4625bab5c0>"
            ]
          },
          "metadata": {
            "tags": []
          },
          "execution_count": 11
        },
        {
          "output_type": "display_data",
          "data": {
            "image/png": "[encoded data removed]",
            "text/plain": [
              "<Figure size 432x288 with 1 Axes>"
            ]
          },
          "metadata": {
            "tags": []
          }
        }
      ]
    },
    {
      "cell_type": "markdown",
      "metadata": {
        "id": "DaIlPfSx0RU0",
        "colab_type": "text"
      },
      "source": [
        "## Converting Data\n",
        "In order to make some bar charts we will need to convert some \"strings\" with dollar signs into numbers."
      ]
    },
    {
      "cell_type": "code",
      "metadata": {
        "id": "u8yU4NRQo015",
        "colab_type": "code",
        "outputId": "de51e3b3-4f14-4761-f644-4167838efeb4",
        "colab": {
          "base_uri": "https://localhost:8080/",
          "height": 414
        }
      },
      "source": [
        "voters['budget'] = voters['budget'].str.replace('$','')\n",
        "voters['budget'] = voters['budget'].str.replace(',','')\n",
        "voters['budget'] = pd.to_numeric(voters['budget'],errors='coerce')\n",
        "voters['worlwide_gross_income'] = voters['worlwide_gross_income'].str.replace('$','')\n",
        "voters['worlwide_gross_income'] = voters['worlwide_gross_income'].str.replace(',','')\n",
        "voters['worlwide_gross_income'] = pd.to_numeric(voters['worlwide_gross_income'],errors='coerce')\n",
        "voters.head(3)"
      ],
      "execution_count": 0,
      "outputs": [
        {
          "output_type": "execute_result",
          "data": {
            "text/html": [
              "<div>\n",
              "<style scoped>\n",
              "    .dataframe tbody tr th:only-of-type {\n",
              "        vertical-align: middle;\n",
              "    }\n",
              "\n",
              "    .dataframe tbody tr th {\n",
              "        vertical-align: top;\n",
              "    }\n",
              "\n",
              "    .dataframe thead th {\n",
              "        text-align: right;\n",
              "    }\n",
              "</style>\n",
              "<table border=\"1\" class=\"dataframe\">\n",
              "  <thead>\n",
              "    <tr style=\"text-align: right;\">\n",
              "      <th></th>\n",
              "      <th>imdb_title_id</th>\n",
              "      <th>rank</th>\n",
              "      <th>title</th>\n",
              "      <th>original_title</th>\n",
              "      <th>year</th>\n",
              "      <th>date_published</th>\n",
              "      <th>genre</th>\n",
              "      <th>duration</th>\n",
              "      <th>country</th>\n",
              "      <th>language</th>\n",
              "      <th>director</th>\n",
              "      <th>writer</th>\n",
              "      <th>production_company</th>\n",
              "      <th>actors</th>\n",
              "      <th>description</th>\n",
              "      <th>avg_vote</th>\n",
              "      <th>votes</th>\n",
              "      <th>budget</th>\n",
              "      <th>usa_gross_income</th>\n",
              "      <th>worlwide_gross_income</th>\n",
              "      <th>metascore</th>\n",
              "      <th>reviews_from_users</th>\n",
              "      <th>reviews_from_critics</th>\n",
              "    </tr>\n",
              "  </thead>\n",
              "  <tbody>\n",
              "    <tr>\n",
              "      <th>0</th>\n",
              "      <td>tt0111161</td>\n",
              "      <td>1</td>\n",
              "      <td>The Shawshank Redemption</td>\n",
              "      <td>The Shawshank Redemption</td>\n",
              "      <td>1994</td>\n",
              "      <td>1995-03-03</td>\n",
              "      <td>Drama</td>\n",
              "      <td>142</td>\n",
              "      <td>USA</td>\n",
              "      <td>English</td>\n",
              "      <td>Frank Darabont</td>\n",
              "      <td>Stephen King, Frank Darabont</td>\n",
              "      <td>Castle Rock Entertainment</td>\n",
              "      <td>Tim Robbins, Morgan Freeman, Bob Gunton, Willi...</td>\n",
              "      <td>Two imprisoned men bond over a number of years...</td>\n",
              "      <td>9.3</td>\n",
              "      <td>2159628</td>\n",
              "      <td>25000000.0</td>\n",
              "      <td>$28,699,976</td>\n",
              "      <td>28781790.0</td>\n",
              "      <td>80</td>\n",
              "      <td>7029</td>\n",
              "      <td>224</td>\n",
              "    </tr>\n",
              "    <tr>\n",
              "      <th>1</th>\n",
              "      <td>tt0068646</td>\n",
              "      <td>2</td>\n",
              "      <td>The Godfather</td>\n",
              "      <td>The Godfather</td>\n",
              "      <td>1972</td>\n",
              "      <td>1972-08-25</td>\n",
              "      <td>Crime, Drama</td>\n",
              "      <td>175</td>\n",
              "      <td>USA</td>\n",
              "      <td>English, Italian, Latin</td>\n",
              "      <td>Francis Ford Coppola</td>\n",
              "      <td>Mario Puzo, Francis Ford Coppola</td>\n",
              "      <td>Paramount Pictures</td>\n",
              "      <td>Marlon Brando, Al Pacino, James Caan, Richard ...</td>\n",
              "      <td>The aging patriarch of an organized crime dyna...</td>\n",
              "      <td>9.2</td>\n",
              "      <td>1482143</td>\n",
              "      <td>6000000.0</td>\n",
              "      <td>$134,966,411</td>\n",
              "      <td>246120974.0</td>\n",
              "      <td>100</td>\n",
              "      <td>3362</td>\n",
              "      <td>241</td>\n",
              "    </tr>\n",
              "    <tr>\n",
              "      <th>2</th>\n",
              "      <td>tt0071562</td>\n",
              "      <td>3</td>\n",
              "      <td>The Godfather: Part II</td>\n",
              "      <td>The Godfather: Part II</td>\n",
              "      <td>1974</td>\n",
              "      <td>1975-10-03</td>\n",
              "      <td>Crime, Drama</td>\n",
              "      <td>202</td>\n",
              "      <td>USA</td>\n",
              "      <td>English, Italian, Spanish, Latin, Sicilian</td>\n",
              "      <td>Francis Ford Coppola</td>\n",
              "      <td>Francis Ford Coppola, Mario Puzo</td>\n",
              "      <td>Paramount Pictures</td>\n",
              "      <td>Al Pacino, Robert Duvall, Diane Keaton, Robert...</td>\n",
              "      <td>The early life and career of Vito Corleone in ...</td>\n",
              "      <td>9.0</td>\n",
              "      <td>1032047</td>\n",
              "      <td>13000000.0</td>\n",
              "      <td>$47,834,595</td>\n",
              "      <td>48020957.0</td>\n",
              "      <td>90</td>\n",
              "      <td>857</td>\n",
              "      <td>172</td>\n",
              "    </tr>\n",
              "  </tbody>\n",
              "</table>\n",
              "</div>"
            ],
            "text/plain": [
              "  imdb_title_id  rank  ... reviews_from_users reviews_from_critics\n",
              "0     tt0111161     1  ...               7029                  224\n",
              "1     tt0068646     2  ...               3362                  241\n",
              "2     tt0071562     3  ...                857                  172\n",
              "\n",
              "[3 rows x 23 columns]"
            ]
          },
          "metadata": {
            "tags": []
          },
          "execution_count": 75
        }
      ]
    },
    {
      "cell_type": "markdown",
      "metadata": {
        "id": "BW6LH4LbVBEr",
        "colab_type": "text"
      },
      "source": [
        "## Creating Bar Charts"
      ]
    },
    {
      "cell_type": "code",
      "metadata": {
        "id": "2A-kHo3dVEn0",
        "colab_type": "code",
        "outputId": "c5273718-4a60-4d9c-e34f-f8505e687a59",
        "colab": {
          "base_uri": "https://localhost:8080/",
          "height": 523
        }
      },
      "source": [
        "# Let's creae a bar chart of movie budgets for the top 5 movies\n",
        "voters.head(5).plot.bar(x='title', y='budget')"
      ],
      "execution_count": 0,
      "outputs": [
        {
          "output_type": "execute_result",
          "data": {
            "text/plain": [
              "<matplotlib.axes._subplots.AxesSubplot at 0x7f4623647ba8>"
            ]
          },
          "metadata": {
            "tags": []
          },
          "execution_count": 76
        },
        {
          "output_type": "display_data",
          "data": {
            "image/png": "[encoded data removed]",
            "text/plain": [
              "<Figure size 432x288 with 1 Axes>"
            ]
          },
          "metadata": {
            "tags": []
          }
        }
      ]
    },
    {
      "cell_type": "markdown",
      "metadata": {
        "id": "O-hNNMNc0mVW",
        "colab_type": "text"
      },
      "source": [
        "## TASK 2: Create a bar chart of the 'worlwide_gross_income' for the top 10 movies. Notice that we have to spell the column label as it is."
      ]
    },
    {
      "cell_type": "code",
      "metadata": {
        "id": "2Q1Eh4JS02ku",
        "colab_type": "code",
        "outputId": "68a44e7e-2056-443d-eddb-88127c128066",
        "colab": {
          "base_uri": "https://localhost:8080/",
          "height": 523
        }
      },
      "source": [
        "# Chart the top 10 movies 'worlwide_gross_income'.\n",
        "voters.head(10).plot.bar(x='title', y='worlwide_gross_income')"
      ],
      "execution_count": 0,
      "outputs": [
        {
          "output_type": "execute_result",
          "data": {
            "text/plain": [
              "<matplotlib.axes._subplots.AxesSubplot at 0x7f4623895dd8>"
            ]
          },
          "metadata": {
            "tags": []
          },
          "execution_count": 77
        },
        {
          "output_type": "display_data",
          "data": {
            "image/png": "[encoded data removed]",
            "text/plain": [
              "<Figure size 432x288 with 1 Axes>"
            ]
          },
          "metadata": {
            "tags": []
          }
        }
      ]
    },
    {
      "cell_type": "markdown",
      "metadata": {
        "id": "xyjCqEcF2a3J",
        "colab_type": "text"
      },
      "source": [
        "## Displaying a Histogram"
      ]
    },
    {
      "cell_type": "code",
      "metadata": {
        "id": "0B1g2pt42lVP",
        "colab_type": "code",
        "outputId": "46f24b87-a0a1-4af2-c5af-32e8e1ff211a",
        "colab": {
          "base_uri": "https://localhost:8080/",
          "height": 315
        }
      },
      "source": [
        "# Let's look at a histogram of average voted score for movies.\n",
        "voters.hist(column='avg_vote')"
      ],
      "execution_count": 0,
      "outputs": [
        {
          "output_type": "execute_result",
          "data": {
            "text/plain": [
              "array([[<matplotlib.axes._subplots.AxesSubplot object at 0x7f4625841ba8>]],\n",
              "      dtype=object)"
            ]
          },
          "metadata": {
            "tags": []
          },
          "execution_count": 26
        },
        {
          "output_type": "display_data",
          "data": {
            "image/png": "[encoded data removed]",
            "text/plain": [
              "<Figure size 432x288 with 1 Axes>"
            ]
          },
          "metadata": {
            "tags": []
          }
        }
      ]
    },
    {
      "cell_type": "markdown",
      "metadata": {
        "id": "DL_04k6G3TEe",
        "colab_type": "text"
      },
      "source": [
        "## TASK 3: Display a histogram below of the movie release 'year'.\n"
      ]
    },
    {
      "cell_type": "code",
      "metadata": {
        "id": "10VPirKh3suu",
        "colab_type": "code",
        "outputId": "edde26ee-1dbe-4a65-bbf4-ed0fb21181bb",
        "colab": {
          "base_uri": "https://localhost:8080/",
          "height": 315
        }
      },
      "source": [
        "# Do your histogram and stats reveal anything interesting?\n",
        "voters.hist(column='year')"
      ],
      "execution_count": 0,
      "outputs": [
        {
          "output_type": "execute_result",
          "data": {
            "text/plain": [
              "array([[<matplotlib.axes._subplots.AxesSubplot object at 0x7f46258e3ef0>]],\n",
              "      dtype=object)"
            ]
          },
          "metadata": {
            "tags": []
          },
          "execution_count": 23
        },
        {
          "output_type": "display_data",
          "data": {
            "image/png": "[encoded data removed]",
            "text/plain": [
              "<Figure size 432x288 with 1 Axes>"
            ]
          },
          "metadata": {
            "tags": []
          }
        }
      ]
    },
    {
      "cell_type": "markdown",
      "metadata": {
        "id": "N677q8tS5YGW",
        "colab_type": "text"
      },
      "source": [
        "## Now load the critics top 10 and create the same charts you did for the voters top 100."
      ]
    },
    {
      "cell_type": "code",
      "metadata": {
        "id": "XtxXaqyS7wKx",
        "colab_type": "code",
        "outputId": "dd1ee7ea-63ca-4808-bf11-bdc076d17da6",
        "colab": {
          "base_uri": "https://localhost:8080/",
          "height": 434
        }
      },
      "source": [
        "# Let's load the data\n",
        "critics = pd.read_csv('https://raw.githubusercontent.com/jlyst/101/master/data/top_movies_critics.csv')\n",
        "critics.head(3)"
      ],
      "execution_count": 0,
      "outputs": [
        {
          "output_type": "execute_result",
          "data": {
            "text/html": [
              "<div>\n",
              "<style scoped>\n",
              "    .dataframe tbody tr th:only-of-type {\n",
              "        vertical-align: middle;\n",
              "    }\n",
              "\n",
              "    .dataframe tbody tr th {\n",
              "        vertical-align: top;\n",
              "    }\n",
              "\n",
              "    .dataframe thead th {\n",
              "        text-align: right;\n",
              "    }\n",
              "</style>\n",
              "<table border=\"1\" class=\"dataframe\">\n",
              "  <thead>\n",
              "    <tr style=\"text-align: right;\">\n",
              "      <th></th>\n",
              "      <th>imdb_title_id</th>\n",
              "      <th>rank</th>\n",
              "      <th>title</th>\n",
              "      <th>original_title</th>\n",
              "      <th>year</th>\n",
              "      <th>date_published</th>\n",
              "      <th>genre</th>\n",
              "      <th>duration</th>\n",
              "      <th>country</th>\n",
              "      <th>language</th>\n",
              "      <th>director</th>\n",
              "      <th>writer</th>\n",
              "      <th>production_company</th>\n",
              "      <th>actors</th>\n",
              "      <th>description</th>\n",
              "      <th>avg_vote</th>\n",
              "      <th>votes</th>\n",
              "      <th>budget</th>\n",
              "      <th>usa_gross_income</th>\n",
              "      <th>worlwide_gross_income</th>\n",
              "      <th>metascore</th>\n",
              "      <th>reviews_from_users</th>\n",
              "      <th>reviews_from_critics</th>\n",
              "    </tr>\n",
              "  </thead>\n",
              "  <tbody>\n",
              "    <tr>\n",
              "      <th>0</th>\n",
              "      <td>tt0060138</td>\n",
              "      <td>1</td>\n",
              "      <td>Au hasard Balthazar</td>\n",
              "      <td>Au hasard Balthazar</td>\n",
              "      <td>1966</td>\n",
              "      <td>1966-05-25</td>\n",
              "      <td>Drama</td>\n",
              "      <td>95</td>\n",
              "      <td>France, Sweden</td>\n",
              "      <td>French, Latin</td>\n",
              "      <td>Robert Bresson</td>\n",
              "      <td>Robert Bresson</td>\n",
              "      <td>Argos Films</td>\n",
              "      <td>Anne Wiazemsky, Walter Green, François Lafarge...</td>\n",
              "      <td>The story of a mistreated donkey and the peopl...</td>\n",
              "      <td>7.9</td>\n",
              "      <td>15808</td>\n",
              "      <td>NaN</td>\n",
              "      <td>$45,406</td>\n",
              "      <td>$45,406</td>\n",
              "      <td>100</td>\n",
              "      <td>77</td>\n",
              "      <td>109</td>\n",
              "    </tr>\n",
              "    <tr>\n",
              "      <th>1</th>\n",
              "      <td>tt0047396</td>\n",
              "      <td>2</td>\n",
              "      <td>Rear Window</td>\n",
              "      <td>Rear Window</td>\n",
              "      <td>1954</td>\n",
              "      <td>1955-01-07</td>\n",
              "      <td>Mystery, Thriller</td>\n",
              "      <td>112</td>\n",
              "      <td>USA</td>\n",
              "      <td>English</td>\n",
              "      <td>Alfred Hitchcock</td>\n",
              "      <td>John Michael Hayes, Cornell Woolrich</td>\n",
              "      <td>Alfred J. Hitchcock Productions</td>\n",
              "      <td>James Stewart, Grace Kelly, Wendell Corey, The...</td>\n",
              "      <td>A wheelchair-bound photographer spies on his n...</td>\n",
              "      <td>8.4</td>\n",
              "      <td>410462</td>\n",
              "      <td>$1,000,000</td>\n",
              "      <td>$36,764,313</td>\n",
              "      <td>$37,032,034</td>\n",
              "      <td>100</td>\n",
              "      <td>759</td>\n",
              "      <td>145</td>\n",
              "    </tr>\n",
              "    <tr>\n",
              "      <th>2</th>\n",
              "      <td>tt0034583</td>\n",
              "      <td>3</td>\n",
              "      <td>Casablanca</td>\n",
              "      <td>Casablanca</td>\n",
              "      <td>1942</td>\n",
              "      <td>1943-01-23</td>\n",
              "      <td>Drama, Romance, War</td>\n",
              "      <td>102</td>\n",
              "      <td>USA</td>\n",
              "      <td>English, French, German, Italian</td>\n",
              "      <td>Michael Curtiz</td>\n",
              "      <td>Julius J. Epstein, Philip G. Epstein</td>\n",
              "      <td>Warner Bros.</td>\n",
              "      <td>Humphrey Bogart, Ingrid Bergman, Paul Henreid,...</td>\n",
              "      <td>A cynical American expatriate struggles to dec...</td>\n",
              "      <td>8.5</td>\n",
              "      <td>487757</td>\n",
              "      <td>$950,000</td>\n",
              "      <td>$4,108,411</td>\n",
              "      <td>$4,374,761</td>\n",
              "      <td>100</td>\n",
              "      <td>1232</td>\n",
              "      <td>187</td>\n",
              "    </tr>\n",
              "  </tbody>\n",
              "</table>\n",
              "</div>"
            ],
            "text/plain": [
              "  imdb_title_id  rank  ... reviews_from_users reviews_from_critics\n",
              "0     tt0060138     1  ...                 77                  109\n",
              "1     tt0047396     2  ...                759                  145\n",
              "2     tt0034583     3  ...               1232                  187\n",
              "\n",
              "[3 rows x 23 columns]"
            ]
          },
          "metadata": {
            "tags": []
          },
          "execution_count": 78
        }
      ]
    },
    {
      "cell_type": "markdown",
      "metadata": {
        "id": "LITbeD0GWs_e",
        "colab_type": "text"
      },
      "source": [
        "## TASK 4: Create a scatterplot of 'rank' vs 'avg_vote' from the critics top 100"
      ]
    },
    {
      "cell_type": "code",
      "metadata": {
        "id": "ZZEwkPS8W9iM",
        "colab_type": "code",
        "outputId": "401ced28-bb9e-41de-9617-93c2bf6b6756",
        "colab": {
          "base_uri": "https://localhost:8080/",
          "height": 296
        }
      },
      "source": [
        "# scatterplot\n",
        "critics.plot.scatter(x='rank', y='avg_vote')"
      ],
      "execution_count": 0,
      "outputs": [
        {
          "output_type": "execute_result",
          "data": {
            "text/plain": [
              "<matplotlib.axes._subplots.AxesSubplot at 0x7f46234cc6d8>"
            ]
          },
          "metadata": {
            "tags": []
          },
          "execution_count": 81
        },
        {
          "output_type": "display_data",
          "data": {
            "image/png": "[encoded data removed]",
            "text/plain": [
              "<Figure size 432x288 with 1 Axes>"
            ]
          },
          "metadata": {
            "tags": []
          }
        }
      ]
    },
    {
      "cell_type": "markdown",
      "metadata": {
        "id": "YOeK87TdXBux",
        "colab_type": "text"
      },
      "source": [
        "## TASK 5: Create a histogram of release 'year'"
      ]
    },
    {
      "cell_type": "code",
      "metadata": {
        "id": "BlrfTgbLXMfR",
        "colab_type": "code",
        "outputId": "fbfc9983-5d28-4bf1-da7e-d54218950f23",
        "colab": {
          "base_uri": "https://localhost:8080/",
          "height": 315
        }
      },
      "source": [
        "# histogram\n",
        "critics.hist(column='year')"
      ],
      "execution_count": 0,
      "outputs": [
        {
          "output_type": "execute_result",
          "data": {
            "text/plain": [
              "array([[<matplotlib.axes._subplots.AxesSubplot object at 0x7f4623492a20>]],\n",
              "      dtype=object)"
            ]
          },
          "metadata": {
            "tags": []
          },
          "execution_count": 83
        },
        {
          "output_type": "display_data",
          "data": {
            "image/png": "[encoded data removed]",
            "text/plain": [
              "<Figure size 432x288 with 1 Axes>"
            ]
          },
          "metadata": {
            "tags": []
          }
        }
      ]
    },
    {
      "cell_type": "markdown",
      "metadata": {
        "id": "11Rp031jXPrR",
        "colab_type": "text"
      },
      "source": [
        "## Let's do the conversion for the strings as before. (copy/paste edit)"
      ]
    },
    {
      "cell_type": "code",
      "metadata": {
        "id": "7dGiokhzXlcc",
        "colab_type": "code",
        "outputId": "7c276975-17f3-4207-9823-e8f0bdf771bb",
        "colab": {
          "base_uri": "https://localhost:8080/",
          "height": 434
        }
      },
      "source": [
        "# convert strings\n",
        "critics['budget'] = critics['budget'].str.replace('$','')\n",
        "critics['budget'] = critics['budget'].str.replace(',','')\n",
        "critics['budget'] = pd.to_numeric(critics['budget'],errors='coerce')\n",
        "critics['worlwide_gross_income'] = critics['worlwide_gross_income'].str.replace('$','')\n",
        "critics['worlwide_gross_income'] = critics['worlwide_gross_income'].str.replace(',','')\n",
        "critics['worlwide_gross_income'] = pd.to_numeric(critics['worlwide_gross_income'],errors='coerce')\n",
        "critics.head(3)"
      ],
      "execution_count": 0,
      "outputs": [
        {
          "output_type": "execute_result",
          "data": {
            "text/html": [
              "<div>\n",
              "<style scoped>\n",
              "    .dataframe tbody tr th:only-of-type {\n",
              "        vertical-align: middle;\n",
              "    }\n",
              "\n",
              "    .dataframe tbody tr th {\n",
              "        vertical-align: top;\n",
              "    }\n",
              "\n",
              "    .dataframe thead th {\n",
              "        text-align: right;\n",
              "    }\n",
              "</style>\n",
              "<table border=\"1\" class=\"dataframe\">\n",
              "  <thead>\n",
              "    <tr style=\"text-align: right;\">\n",
              "      <th></th>\n",
              "      <th>imdb_title_id</th>\n",
              "      <th>rank</th>\n",
              "      <th>title</th>\n",
              "      <th>original_title</th>\n",
              "      <th>year</th>\n",
              "      <th>date_published</th>\n",
              "      <th>genre</th>\n",
              "      <th>duration</th>\n",
              "      <th>country</th>\n",
              "      <th>language</th>\n",
              "      <th>director</th>\n",
              "      <th>writer</th>\n",
              "      <th>production_company</th>\n",
              "      <th>actors</th>\n",
              "      <th>description</th>\n",
              "      <th>avg_vote</th>\n",
              "      <th>votes</th>\n",
              "      <th>budget</th>\n",
              "      <th>usa_gross_income</th>\n",
              "      <th>worlwide_gross_income</th>\n",
              "      <th>metascore</th>\n",
              "      <th>reviews_from_users</th>\n",
              "      <th>reviews_from_critics</th>\n",
              "    </tr>\n",
              "  </thead>\n",
              "  <tbody>\n",
              "    <tr>\n",
              "      <th>0</th>\n",
              "      <td>tt0060138</td>\n",
              "      <td>1</td>\n",
              "      <td>Au hasard Balthazar</td>\n",
              "      <td>Au hasard Balthazar</td>\n",
              "      <td>1966</td>\n",
              "      <td>1966-05-25</td>\n",
              "      <td>Drama</td>\n",
              "      <td>95</td>\n",
              "      <td>France, Sweden</td>\n",
              "      <td>French, Latin</td>\n",
              "      <td>Robert Bresson</td>\n",
              "      <td>Robert Bresson</td>\n",
              "      <td>Argos Films</td>\n",
              "      <td>Anne Wiazemsky, Walter Green, François Lafarge...</td>\n",
              "      <td>The story of a mistreated donkey and the peopl...</td>\n",
              "      <td>7.9</td>\n",
              "      <td>15808</td>\n",
              "      <td>NaN</td>\n",
              "      <td>$45,406</td>\n",
              "      <td>45406.0</td>\n",
              "      <td>100</td>\n",
              "      <td>77</td>\n",
              "      <td>109</td>\n",
              "    </tr>\n",
              "    <tr>\n",
              "      <th>1</th>\n",
              "      <td>tt0047396</td>\n",
              "      <td>2</td>\n",
              "      <td>Rear Window</td>\n",
              "      <td>Rear Window</td>\n",
              "      <td>1954</td>\n",
              "      <td>1955-01-07</td>\n",
              "      <td>Mystery, Thriller</td>\n",
              "      <td>112</td>\n",
              "      <td>USA</td>\n",
              "      <td>English</td>\n",
              "      <td>Alfred Hitchcock</td>\n",
              "      <td>John Michael Hayes, Cornell Woolrich</td>\n",
              "      <td>Alfred J. Hitchcock Productions</td>\n",
              "      <td>James Stewart, Grace Kelly, Wendell Corey, The...</td>\n",
              "      <td>A wheelchair-bound photographer spies on his n...</td>\n",
              "      <td>8.4</td>\n",
              "      <td>410462</td>\n",
              "      <td>1000000.0</td>\n",
              "      <td>$36,764,313</td>\n",
              "      <td>37032034.0</td>\n",
              "      <td>100</td>\n",
              "      <td>759</td>\n",
              "      <td>145</td>\n",
              "    </tr>\n",
              "    <tr>\n",
              "      <th>2</th>\n",
              "      <td>tt0034583</td>\n",
              "      <td>3</td>\n",
              "      <td>Casablanca</td>\n",
              "      <td>Casablanca</td>\n",
              "      <td>1942</td>\n",
              "      <td>1943-01-23</td>\n",
              "      <td>Drama, Romance, War</td>\n",
              "      <td>102</td>\n",
              "      <td>USA</td>\n",
              "      <td>English, French, German, Italian</td>\n",
              "      <td>Michael Curtiz</td>\n",
              "      <td>Julius J. Epstein, Philip G. Epstein</td>\n",
              "      <td>Warner Bros.</td>\n",
              "      <td>Humphrey Bogart, Ingrid Bergman, Paul Henreid,...</td>\n",
              "      <td>A cynical American expatriate struggles to dec...</td>\n",
              "      <td>8.5</td>\n",
              "      <td>487757</td>\n",
              "      <td>950000.0</td>\n",
              "      <td>$4,108,411</td>\n",
              "      <td>4374761.0</td>\n",
              "      <td>100</td>\n",
              "      <td>1232</td>\n",
              "      <td>187</td>\n",
              "    </tr>\n",
              "  </tbody>\n",
              "</table>\n",
              "</div>"
            ],
            "text/plain": [
              "  imdb_title_id  rank  ... reviews_from_users reviews_from_critics\n",
              "0     tt0060138     1  ...                 77                  109\n",
              "1     tt0047396     2  ...                759                  145\n",
              "2     tt0034583     3  ...               1232                  187\n",
              "\n",
              "[3 rows x 23 columns]"
            ]
          },
          "metadata": {
            "tags": []
          },
          "execution_count": 82
        }
      ]
    },
    {
      "cell_type": "markdown",
      "metadata": {
        "id": "Ej_4tJP8ZCHB",
        "colab_type": "text"
      },
      "source": [
        "## TASK 6: Create a bar chart for top 10 movies 'worlwide_gross_income'"
      ]
    },
    {
      "cell_type": "code",
      "metadata": {
        "id": "jvKEMQowZE0j",
        "colab_type": "code",
        "outputId": "e23e8d01-7e01-4ad8-a1c4-61651508f30b",
        "colab": {
          "base_uri": "https://localhost:8080/",
          "height": 403
        }
      },
      "source": [
        "# bar chart\n",
        "critics.head(10).plot.bar(x='title', y='worlwide_gross_income')"
      ],
      "execution_count": 0,
      "outputs": [
        {
          "output_type": "execute_result",
          "data": {
            "text/plain": [
              "<matplotlib.axes._subplots.AxesSubplot at 0x7f462342e9e8>"
            ]
          },
          "metadata": {
            "tags": []
          },
          "execution_count": 84
        },
        {
          "output_type": "display_data",
          "data": {
            "image/png": "[encoded data removed]",
            "text/plain": [
              "<Figure size 432x288 with 1 Axes>"
            ]
          },
          "metadata": {
            "tags": []
          }
        }
      ]
    },
    {
      "cell_type": "markdown",
      "metadata": {
        "id": "vMr7H0AN7zVr",
        "colab_type": "text"
      },
      "source": [
        "#### REFERENCES\n",
        "\n",
        "https://pandas.pydata.org/pandas-docs/stable/reference/api/pandas.DataFrame.head.html\n",
        "\n",
        "https://pandas.pydata.org/pandas-docs/stable/reference/api/pandas.DataFrame.sort_values.html\n",
        "\n",
        "https://pandas.pydata.org/pandas-docs/stable/user_guide/visualization.html\n",
        "\n",
        "https://pandas.pydata.org/pandas-docs/stable/reference/api/pandas.DataFrame.describe.html\n"
      ]
    }
  ]
}